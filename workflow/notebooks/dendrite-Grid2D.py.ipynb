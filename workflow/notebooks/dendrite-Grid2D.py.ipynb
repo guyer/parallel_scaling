{
 "cells": [
  {
   "cell_type": "markdown",
   "metadata": {},
   "source": [
    "# Dendrite Phase Field Benchmark\n",
    "\n",
    "FiPy implementation of 2D dendritic solidification benchmark.\n",
    "\n",
    "https://pages.nist.gov/pfhub/benchmarks/benchmark3.ipynb/"
   ]
  },
  {
   "cell_type": "markdown",
   "metadata": {},
   "source": [
    "## Import Python modules"
   ]
  },
  {
   "cell_type": "code",
   "execution_count": null,
   "metadata": {
    "collapsed": false,
    "jupyter": {
     "outputs_hidden": false
    }
   },
   "outputs": [],
   "source": [
    "import json\n",
    "import re\n",
    "import sys\n",
    "from scipy.interpolate import CubicSpline\n",
    "from scipy.optimize import root_scalar\n",
    "\n",
    "try:\n",
    "    import pathlib\n",
    "except ImportError:\n",
    "    import pathlib2 as pathlib\n",
    "\n",
    "import fipy as fp\n",
    "from fipy.tools import numerix as nmx\n",
    "from fipy.tools import parallelComm\n",
    "from steppyngstounes import CheckpointStepper, FixedStepper"
   ]
  },
  {
   "cell_type": "code",
   "execution_count": null,
   "metadata": {},
   "outputs": [],
   "source": [
    "isnotebook = False\n",
    "try:\n",
    "    from IPython import get_ipython\n",
    "    isnotebook = (get_ipython().__class__.__name__ == \"ZMQInteractiveShell\")\n",
    "except:\n",
    "    pass"
   ]
  },
  {
   "cell_type": "markdown",
   "metadata": {},
   "source": [
    "## Define problem"
   ]
  },
  {
   "cell_type": "code",
   "execution_count": null,
   "metadata": {},
   "outputs": [],
   "source": [
    "param_file = pathlib.Path(sys.argv[1])\n",
    "work_dir = param_file.parent"
   ]
  },
  {
   "cell_type": "markdown",
   "metadata": {},
   "source": [
    "### Define simulation parameters"
   ]
  },
  {
   "cell_type": "code",
   "execution_count": null,
   "metadata": {},
   "outputs": [],
   "source": [
    "if isnotebook:\n",
    "    params = {\n",
    "        \"dx\": 0.5,\n",
    "        \"Lx\": 96.,\n",
    "        \"r0\": 8.,\n",
    "        \"dt\": 0.15,\n",
    "        \"t_max\": 100,\n",
    "        \"checkpoints\": nmx.linspace(0, 100, 11),\n",
    "        \"view\": True,\n",
    "        \"solver\": None,\n",
    "        \"preconditioner\": None\n",
    "    }\n",
    "else:\n",
    "    with open(param_file, \"r\") as f:\n",
    "        params = json.load(f)"
   ]
  },
  {
   "cell_type": "markdown",
   "metadata": {},
   "source": [
    "### Define domain"
   ]
  },
  {
   "cell_type": "code",
   "execution_count": null,
   "metadata": {},
   "outputs": [],
   "source": [
    "mesh = fp.Grid2D(dx=params[\"dx\"], Lx=params[\"Lx\"],\n",
    "                 dy=params[\"dx\"], Ly=params[\"Lx\"])"
   ]
  },
  {
   "cell_type": "markdown",
   "metadata": {},
   "source": [
    "### Define solution variables"
   ]
  },
  {
   "cell_type": "code",
   "execution_count": null,
   "metadata": {},
   "outputs": [],
   "source": [
    "u = fp.CellVariable(mesh=mesh, name=\"u\", hasOld=True)"
   ]
  },
  {
   "cell_type": "code",
   "execution_count": null,
   "metadata": {},
   "outputs": [],
   "source": [
    "phi = fp.CellVariable(mesh=mesh, name=r\"$\\varphi$\", hasOld=True)"
   ]
  },
  {
   "cell_type": "markdown",
   "metadata": {},
   "source": [
    "### Define equations"
   ]
  },
  {
   "cell_type": "code",
   "execution_count": null,
   "metadata": {
    "collapsed": false,
    "jupyter": {
     "outputs_hidden": false
    }
   },
   "outputs": [],
   "source": [
    "D = 10.\n",
    "tau0 = 1.\n",
    "W0 = 1.\n",
    "lamda = D * tau0 / (0.6267 * W0**2)\n",
    "norm = phi.grad / (phi.grad.mag + (phi.grad.mag == 0.) * 1.)\n",
    "norm_f = phi.faceGrad / (phi.faceGrad.mag + (phi.faceGrad.mag == 0.) * 1.)\n",
    "theta = nmx.arctan2(norm[1], norm[0])\n",
    "theta.name = r\"$\\theta$\"\n",
    "theta_f = nmx.arctan2(norm_f[1], norm_f[0])\n",
    "theta_f.name = r\"$\\theta$\"\n",
    "m = fp.Variable(4)\n",
    "epsilon = fp.Variable(0.05)\n",
    "a = 1 + epsilon * nmx.cos(m * theta)\n",
    "a_f = 1 + epsilon * nmx.cos(m * theta_f)\n",
    "aPrime = -epsilon * nmx.sin(m * theta) * m\n",
    "aPrime_f = -epsilon * nmx.sin(m * theta_f) * m\n",
    "tau = tau0 * a**2\n",
    "W = W0 * a\n",
    "W_f = W0 * a_f\n",
    "Wprime = W0 * aPrime\n",
    "Wprime_f = W0 * aPrime_f\n",
    "Dphi = W_f**2\n",
    "Dphi = W_f * (W_f * [[1, 0],\n",
    "                     [0, 1]] + Wprime_f * [[0, -1],\n",
    "                                           [1, 0]])\n",
    "Delta = fp.Variable(value=0.3, name=r\"$\\Delta$\")"
   ]
  },
  {
   "cell_type": "code",
   "execution_count": null,
   "metadata": {
    "collapsed": false,
    "jupyter": {
     "outputs_hidden": false
    }
   },
   "outputs": [],
   "source": [
    "ueq = (fp.TransientTerm(coeff=1., var=u) \n",
    "       == fp.DiffusionTerm(coeff=D, var=u)\n",
    "       + fp.TransientTerm(coeff=0.5, var=phi))"
   ]
  },
  {
   "cell_type": "code",
   "execution_count": null,
   "metadata": {
    "collapsed": false,
    "jupyter": {
     "outputs_hidden": false
    }
   },
   "outputs": [],
   "source": [
    "phieq = (fp.TransientTerm(coeff=tau, var=phi)\n",
    "         == fp.DiffusionTerm(coeff=Dphi, var=phi)\n",
    "         + fp.ImplicitSourceTerm(coeff=1-phi**2, var=phi)\n",
    "         - fp.ImplicitSourceTerm(coeff=lamda * (1 - 2*phi**2 + phi**4), var=u))"
   ]
  },
  {
   "cell_type": "code",
   "execution_count": null,
   "metadata": {},
   "outputs": [],
   "source": [
    "eq = ueq & phieq"
   ]
  },
  {
   "cell_type": "markdown",
   "metadata": {},
   "source": [
    "### Define boundary conditions"
   ]
  },
  {
   "cell_type": "code",
   "execution_count": null,
   "metadata": {},
   "outputs": [],
   "source": [
    "u.constrain(-Delta, where=mesh.facesRight | mesh.facesTop)"
   ]
  },
  {
   "cell_type": "markdown",
   "metadata": {},
   "source": [
    "### Define metrics"
   ]
  },
  {
   "cell_type": "code",
   "execution_count": null,
   "metadata": {},
   "outputs": [],
   "source": [
    "f_chem = (-(1/2) * phi**2 + (1/4) * phi**4\n",
    "          + lamda * u * phi * (1 - (2/3) * phi**2 + (1/5) * phi**4))\n",
    "free_energy = ((1/2) * W**2 * phi.grad.mag**2 + f_chem).cellVolumeAverage * nmx.sum(mesh.cellVolumes)\n",
    "solid_fraction = ((phi + 1) / 2).cellVolumeAverage"
   ]
  },
  {
   "cell_type": "code",
   "execution_count": null,
   "metadata": {},
   "outputs": [],
   "source": [
    "class TipVariable(fp.Variable):\n",
    "    def __init__(self, var):\n",
    "        fp.Variable.__init__(self)\n",
    "        self.var = self._requires(var)\n",
    "        mesh = var.mesh\n",
    "        X = mesh.faceCenters[0, mesh.facesBottom]\n",
    "        self.ix = nmx.argsort(X)\n",
    "        self.X = X[self.ix]\n",
    "        self.var_value = self.var.faceValue[mesh.facesBottom][self.ix]\n",
    "\n",
    "    def _calcValue(self):\n",
    "        spl = CubicSpline(self.X, self.var_value)\n",
    "        sol = root_scalar(spl, bracket=(0, params[\"Lx\"]))\n",
    "        if sol.converged:\n",
    "            return sol.root\n",
    "        else:\n",
    "            raise Exception\n",
    "\n",
    "tip_position = TipVariable(phi)"
   ]
  },
  {
   "cell_type": "code",
   "execution_count": null,
   "metadata": {},
   "outputs": [],
   "source": [
    "faceNorm = phi.faceGrad / (phi.faceGrad.mag + (phi.faceGrad.mag == 0.) * 1.)\n",
    "faceNorm.name = r\"$\\hat{n}$\"\n",
    "curvature = faceNorm.divergence\n",
    "curvature.name = r\"$\\kappa$\""
   ]
  },
  {
   "cell_type": "code",
   "execution_count": null,
   "metadata": {},
   "outputs": [],
   "source": [
    "radius = 1. / curvature\n",
    "radius.name = r\"$\\rho$\""
   ]
  },
  {
   "cell_type": "markdown",
   "metadata": {},
   "source": [
    "### Initialize viewers"
   ]
  },
  {
   "cell_type": "code",
   "execution_count": null,
   "metadata": {
    "collapsed": false,
    "jupyter": {
     "outputs_hidden": false
    }
   },
   "outputs": [],
   "source": [
    "if params[\"view\"]:\n",
    "    phiviewer = fp.Viewer(vars=phi, datamin=-1, datamax=1)"
   ]
  },
  {
   "cell_type": "code",
   "execution_count": null,
   "metadata": {
    "collapsed": false,
    "jupyter": {
     "outputs_hidden": false
    }
   },
   "outputs": [],
   "source": [
    "# radviewer = fp.Viewer(vars=radius *(1 + phi) * (1-phi), datamin=-20, datamax=0)"
   ]
  },
  {
   "cell_type": "code",
   "execution_count": null,
   "metadata": {
    "collapsed": false,
    "jupyter": {
     "outputs_hidden": false
    }
   },
   "outputs": [],
   "source": [
    "# radviewer.plot()"
   ]
  },
  {
   "cell_type": "code",
   "execution_count": null,
   "metadata": {},
   "outputs": [],
   "source": [
    "# fp.tools.dump.write(mesh, \"mesh.gz\")"
   ]
  },
  {
   "cell_type": "markdown",
   "metadata": {},
   "source": [
    "### Create solver"
   ]
  },
  {
   "cell_type": "code",
   "execution_count": null,
   "metadata": {
    "tags": []
   },
   "outputs": [],
   "source": [
    "precon = None\n",
    "\n",
    "if params[\"preconditioner\"] == \"jacobi\":\n",
    "    precon = fp.JacobiPreconditioner()\n",
    "elif params[\"preconditioner\"] == \"ilu\":\n",
    "    precon = fp.ILUPreconditioner()\n",
    "elif params[\"preconditioner\"] == \"ssor\":\n",
    "    precon = fp.SSORPreconditioner()\n",
    "elif params[\"preconditioner\"] == \"icc\":\n",
    "    precon = fp.ICPreconditioner()\n",
    "elif params[\"preconditioner\"] in [None, \"none\"]:\n",
    "    precon = None\n",
    "else:\n",
    "    precon = fp.solvers.__dict__[params[\"preconditioner\"]]()\n",
    "\n",
    "if params[\"solver\"] == \"cgs\":\n",
    "    solver_class = fp.LinearCGSSolver\n",
    "elif params[\"solver\"] == \"gmres\":\n",
    "    solver_class = fp.LinearGMRESSolver\n",
    "elif params[\"solver\"] == \"lu\":\n",
    "    solver_class = fp.LinearLUSolver\n",
    "elif params[\"solver\"] == \"pcg\":\n",
    "    solver_class = fp.LinearPCGSolver\n",
    "elif params[\"solver\"] in [None, \"none\"]:\n",
    "    solver_class = None\n",
    "else:\n",
    "    solver_class = fp.solvers.__dict__[params[\"solver\"]]"
   ]
  },
  {
   "cell_type": "code",
   "execution_count": null,
   "metadata": {
    "tags": []
   },
   "outputs": [],
   "source": [
    "if solver_class == fp.LinearLUSolver:\n",
    "    precon = None # preconditioned lu doesn't make any sense"
   ]
  },
  {
   "cell_type": "code",
   "execution_count": null,
   "metadata": {
    "tags": []
   },
   "outputs": [],
   "source": [
    "if params[\"solver\"] in [None, \"none\"]:\n",
    "    solver = None\n",
    "else:\n",
    "    solver = solver_class(criterion=\"RHS\", precon=precon)    "
   ]
  },
  {
   "cell_type": "markdown",
   "metadata": {},
   "source": [
    "## Setup output"
   ]
  },
  {
   "cell_type": "markdown",
   "metadata": {},
   "source": [
    "### Define output routines"
   ]
  },
  {
   "cell_type": "code",
   "execution_count": null,
   "metadata": {
    "ExecuteTime": {
     "end_time": "2019-10-13T11:27:57.917659Z",
     "start_time": "2019-10-13T11:27:57.907449Z"
    }
   },
   "outputs": [],
   "source": [
    "def checkpoint_data(elapsed):\n",
    "    u_value = u.globalValue\n",
    "    phi_value = phi.globalValue\n",
    "    if parallelComm.procID == 0:\n",
    "        fname = work_dir / \"t={}.npz\".format(elapsed)\n",
    "        nmx.savez(fname,\n",
    "                  phi=phi_value,\n",
    "                  u=u_value)"
   ]
  },
  {
   "cell_type": "markdown",
   "metadata": {},
   "source": [
    "### Figure out when to save"
   ]
  },
  {
   "cell_type": "code",
   "execution_count": null,
   "metadata": {
    "ExecuteTime": {
     "end_time": "2019-10-13T11:27:57.929625Z",
     "start_time": "2019-10-13T11:27:57.922003Z"
    },
    "code_folding": [
     2
    ],
    "tags": []
   },
   "outputs": [],
   "source": [
    "checkpoints = nmx.asarray(params[\"checkpoints\"])\n",
    "checkpoints.sort()"
   ]
  },
  {
   "cell_type": "markdown",
   "metadata": {},
   "source": [
    "## Initialize fields"
   ]
  },
  {
   "cell_type": "code",
   "execution_count": null,
   "metadata": {
    "collapsed": false,
    "jupyter": {
     "outputs_hidden": false
    }
   },
   "outputs": [],
   "source": [
    "r = mesh.cellCenters.mag"
   ]
  },
  {
   "cell_type": "code",
   "execution_count": null,
   "metadata": {},
   "outputs": [],
   "source": [
    "if params[\"restart\"] is not None:\n",
    "    data = nmx.load(params[\"restart\"])\n",
    "    u.value = data[\"u\"]\n",
    "    phi.value = data[\"phi\"]\n",
    "\n",
    "    # scanf(\"%g\") simulator\n",
    "    # https://docs.python.org/3/library/re.html#simulating-scanf\n",
    "    scanf_g = r\"[-+]?(\\d+(\\.\\d*)?|\\.\\d+)([eE][-+]?\\d+)?\"\n",
    "    pattern = r\".*t=({g})\\.npz\".format(g=scanf_g)\n",
    "    elapsed = float(re.match(pattern, params[\"restart\"]).group(1))\n",
    "else:\n",
    "    elapsed = 0.\n",
    "    phi.value = -1\n",
    "    phi.setValue(+1, where=r <= params[\"r0\"])\n",
    "    u.value = -Delta"
   ]
  },
  {
   "cell_type": "code",
   "execution_count": null,
   "metadata": {},
   "outputs": [],
   "source": [
    "if elapsed in checkpoints:\n",
    "    checkpoint_data(elapsed=elapsed)"
   ]
  },
  {
   "cell_type": "markdown",
   "metadata": {},
   "source": [
    "## Solve in time"
   ]
  },
  {
   "cell_type": "code",
   "execution_count": null,
   "metadata": {},
   "outputs": [],
   "source": [
    "times = checkpoints\n",
    "times = times[(times > elapsed)\n",
    "              & (times <= params[\"t_max\"])]"
   ]
  },
  {
   "cell_type": "code",
   "execution_count": null,
   "metadata": {},
   "outputs": [],
   "source": [
    "print(f\"t,free_energy,solid_fraction,tip_position\")\n",
    "print(f\"{elapsed},{free_energy},{solid_fraction},{tip_position}\")\n",
    "\n",
    "for checkpoint in CheckpointStepper(start=elapsed,\n",
    "                                    stops=times,\n",
    "                                    stop=params[\"t_max\"]):\n",
    "\n",
    "    for step in FixedStepper(start=checkpoint.begin,\n",
    "                             stop=checkpoint.end,\n",
    "                             size=params[\"dt\"]):\n",
    "\n",
    "        phi.updateOld()\n",
    "        u.updateOld()\n",
    "        for sweep in range(3):\n",
    "            res = eq.sweep(dt=step.size, solver=solver)\n",
    "\n",
    "        if isnotebook and params[\"view\"]:\n",
    "            phiviewer.plot()\n",
    "        print(f\"{step.end},{free_energy},{solid_fraction},{tip_position}\")\n",
    "\n",
    "        _ = step.succeeded() # FixedStepper can't fail\n",
    "\n",
    "    if checkpoint.end in checkpoints:\n",
    "        checkpoint_data(elapsed=checkpoint.end)\n",
    "\n",
    "    _ = checkpoint.succeeded() # CheckpointStepper can't fail                               "
   ]
  },
  {
   "cell_type": "code",
   "execution_count": null,
   "metadata": {},
   "outputs": [],
   "source": []
  }
 ],
 "metadata": {
  "kernelspec": {
   "display_name": "Python 3 (ipykernel)",
   "language": "python",
   "name": "python3"
  },
  "language_info": {
   "codemirror_mode": {
    "name": "ipython",
    "version": 3
   },
   "file_extension": ".py",
   "mimetype": "text/x-python",
   "name": "python",
   "nbconvert_exporter": "python",
   "pygments_lexer": "ipython3",
   "version": "3.11.4"
  }
 },
 "nbformat": 4,
 "nbformat_minor": 4
}
