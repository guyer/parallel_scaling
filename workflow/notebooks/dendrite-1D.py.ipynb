{
 "cells": [
  {
   "cell_type": "markdown",
   "metadata": {},
   "source": [
    "# Dendrite Phase Field Benchmark\n",
    "\n",
    "FiPy implementation of 2D dendritic solidification benchmark.\n",
    "\n",
    "https://pages.nist.gov/pfhub/benchmarks/benchmark3.ipynb/"
   ]
  },
  {
   "cell_type": "markdown",
   "metadata": {},
   "source": [
    "## Import Python modules"
   ]
  },
  {
   "cell_type": "code",
   "execution_count": 1,
   "metadata": {
    "collapsed": false,
    "jupyter": {
     "outputs_hidden": false
    }
   },
   "outputs": [],
   "source": [
    "import json\n",
    "import sys\n",
    "from scipy.interpolate import CubicSpline\n",
    "from scipy.optimize import root_scalar\n",
    "\n",
    "import fipy as fp\n",
    "from fipy import numerix as nmx"
   ]
  },
  {
   "cell_type": "code",
   "execution_count": 2,
   "metadata": {},
   "outputs": [],
   "source": [
    "isnotebook = False\n",
    "try:\n",
    "    from IPython import get_ipython\n",
    "    isnotebook = (get_ipython().__class__.__name__ == \"ZMQInteractiveShell\")\n",
    "except:\n",
    "    pass"
   ]
  },
  {
   "cell_type": "markdown",
   "metadata": {},
   "source": [
    "## Define simulation parameters"
   ]
  },
  {
   "cell_type": "code",
   "execution_count": 3,
   "metadata": {},
   "outputs": [],
   "source": [
    "if isnotebook:\n",
    "    params = {\n",
    "        \"dx\": 0.1,\n",
    "        \"Lx\": 96.,\n",
    "        \"r0\": 8.,\n",
    "        \"dt\": 0.5,\n",
    "        \"t_max\": 100,\n",
    "        \"output\": \"dx=0_1dt=0_5.csv\",\n",
    "        \"view\": False\n",
    "    }\n",
    "else:\n",
    "    with open(sys.argv[1], \"r\") as f:\n",
    "        params = json.load(f)"
   ]
  },
  {
   "cell_type": "markdown",
   "metadata": {},
   "source": [
    "## Define domain"
   ]
  },
  {
   "cell_type": "code",
   "execution_count": 4,
   "metadata": {},
   "outputs": [],
   "source": [
    "mesh = fp.Grid1D(dx=params[\"dx\"], Lx=params[\"Lx\"])"
   ]
  },
  {
   "cell_type": "markdown",
   "metadata": {},
   "source": [
    "## Define solution variables"
   ]
  },
  {
   "cell_type": "code",
   "execution_count": 5,
   "metadata": {},
   "outputs": [],
   "source": [
    "u = fp.CellVariable(mesh=mesh, name=\"u\", hasOld=True)"
   ]
  },
  {
   "cell_type": "code",
   "execution_count": 6,
   "metadata": {},
   "outputs": [],
   "source": [
    "phi = fp.CellVariable(mesh=mesh, name=r\"$\\varphi$\", hasOld=True)"
   ]
  },
  {
   "cell_type": "markdown",
   "metadata": {},
   "source": [
    "## Define equations"
   ]
  },
  {
   "cell_type": "code",
   "execution_count": 7,
   "metadata": {
    "collapsed": false,
    "jupyter": {
     "outputs_hidden": false
    }
   },
   "outputs": [],
   "source": [
    "D = 10.\n",
    "tau0 = 1.\n",
    "W0 = 1.\n",
    "lamda = D * tau0 / (0.6267 * W0**2)\n",
    "norm = phi.grad / (phi.grad.mag + (phi.grad.mag == 0.) * 1.)\n",
    "theta = fp.Variable(0.)\n",
    "theta.name = r\"$\\theta$\"\n",
    "m = fp.Variable(4)\n",
    "epsilon = fp.Variable(0.05)\n",
    "a = 1 + epsilon * nmx.cos(m * theta)\n",
    "aPrime = -epsilon * nmx.sin(m * theta) * m\n",
    "tau = tau0 * a**2\n",
    "W = W0 * a\n",
    "Wprime = W0 * aPrime\n",
    "Dphi = W**2\n",
    "Delta = fp.Variable(value=0.3, name=r\"$\\Delta$\")"
   ]
  },
  {
   "cell_type": "code",
   "execution_count": 8,
   "metadata": {
    "collapsed": false,
    "jupyter": {
     "outputs_hidden": false
    }
   },
   "outputs": [],
   "source": [
    "ueq = (fp.TransientTerm(coeff=1., var=u) \n",
    "       == fp.DiffusionTerm(coeff=D, var=u)\n",
    "       + fp.TransientTerm(coeff=0.5, var=phi))"
   ]
  },
  {
   "cell_type": "code",
   "execution_count": 9,
   "metadata": {
    "collapsed": false,
    "jupyter": {
     "outputs_hidden": false
    }
   },
   "outputs": [],
   "source": [
    "phieq = (fp.TransientTerm(coeff=tau, var=phi)\n",
    "         == fp.DiffusionTerm(coeff=Dphi, var=phi)\n",
    "         + fp.ImplicitSourceTerm(coeff=1-phi**2, var=phi)\n",
    "         - fp.ImplicitSourceTerm(coeff=lamda * (1 - 2*phi**2 + phi**4), var=u))"
   ]
  },
  {
   "cell_type": "code",
   "execution_count": 10,
   "metadata": {},
   "outputs": [],
   "source": [
    "eq = ueq & phieq"
   ]
  },
  {
   "cell_type": "markdown",
   "metadata": {},
   "source": [
    "## Define boundary conditions"
   ]
  },
  {
   "cell_type": "code",
   "execution_count": 11,
   "metadata": {},
   "outputs": [],
   "source": [
    "u.constrain(-Delta, where=mesh.facesRight)"
   ]
  },
  {
   "cell_type": "markdown",
   "metadata": {},
   "source": [
    "## Define metrics"
   ]
  },
  {
   "cell_type": "code",
   "execution_count": 12,
   "metadata": {},
   "outputs": [],
   "source": [
    "f_chem = (-(1/2) * phi**2 + (1/4) * phi**4\n",
    "          + lamda * u * phi * (1 - (2/3) * phi**2 + (1/5) * phi**4))\n",
    "free_energy = ((1/2) * W**2 * phi.grad.mag**2 + f_chem).cellVolumeAverage * nmx.sum(mesh.cellVolumes)\n",
    "solid_fraction = ((phi + 1) / 2).cellVolumeAverage"
   ]
  },
  {
   "cell_type": "code",
   "execution_count": 23,
   "metadata": {},
   "outputs": [],
   "source": [
    "class TipVariable(fp.Variable):\n",
    "    def __init__(self, var):\n",
    "        fp.Variable.__init__(self)\n",
    "        self.var = self._requires(var)\n",
    "\n",
    "    def _calcValue(self):\n",
    "        spl = CubicSpline(self.var.mesh.x.value, self.var.value)\n",
    "        sol = root_scalar(spl, bracket=(0, params[\"Lx\"]))\n",
    "        if sol.converged:\n",
    "            return sol.root\n",
    "        else:\n",
    "            raise Exception\n",
    "\n",
    "tip_position = TipVariable(phi)"
   ]
  },
  {
   "cell_type": "code",
   "execution_count": 24,
   "metadata": {},
   "outputs": [],
   "source": [
    "faceNorm = phi.faceGrad / (phi.faceGrad.mag + (phi.faceGrad.mag == 0.) * 1.)\n",
    "faceNorm.name = r\"$\\hat{n}$\"\n",
    "curvature = faceNorm.divergence\n",
    "curvature.name = r\"$\\kappa$\""
   ]
  },
  {
   "cell_type": "code",
   "execution_count": 25,
   "metadata": {},
   "outputs": [],
   "source": [
    "radius = 1. / curvature\n",
    "radius.name = r\"$\\rho$\""
   ]
  },
  {
   "cell_type": "markdown",
   "metadata": {},
   "source": [
    "## Initialize viewers"
   ]
  },
  {
   "cell_type": "code",
   "execution_count": 26,
   "metadata": {
    "collapsed": false,
    "jupyter": {
     "outputs_hidden": false
    }
   },
   "outputs": [],
   "source": [
    "if params[\"view\"]:\n",
    "    phiviewer = fp.Viewer(vars=phi, datamin=-1, datamax=1)"
   ]
  },
  {
   "cell_type": "code",
   "execution_count": 27,
   "metadata": {
    "collapsed": false,
    "jupyter": {
     "outputs_hidden": false
    }
   },
   "outputs": [],
   "source": [
    "# radviewer = fp.Viewer(vars=radius *(1 + phi) * (1-phi), datamin=-20, datamax=0)"
   ]
  },
  {
   "cell_type": "code",
   "execution_count": 28,
   "metadata": {
    "collapsed": false,
    "jupyter": {
     "outputs_hidden": false
    }
   },
   "outputs": [],
   "source": [
    "# radviewer.plot()"
   ]
  },
  {
   "cell_type": "code",
   "execution_count": 29,
   "metadata": {},
   "outputs": [],
   "source": [
    "# fp.tools.dump.write(mesh, \"mesh.gz\")"
   ]
  },
  {
   "cell_type": "markdown",
   "metadata": {},
   "source": [
    "## Initialize fields"
   ]
  },
  {
   "cell_type": "code",
   "execution_count": 30,
   "metadata": {
    "collapsed": false,
    "jupyter": {
     "outputs_hidden": false
    }
   },
   "outputs": [],
   "source": [
    "r = mesh.cellCenters.mag"
   ]
  },
  {
   "cell_type": "code",
   "execution_count": 31,
   "metadata": {},
   "outputs": [],
   "source": [
    "t = 0.\n",
    "phi.value = -1\n",
    "phi.setValue(+1, where=r <= params[\"r0\"])\n",
    "u.value = -Delta"
   ]
  },
  {
   "cell_type": "markdown",
   "metadata": {},
   "source": [
    "## Initialize output file"
   ]
  },
  {
   "cell_type": "code",
   "execution_count": 32,
   "metadata": {
    "collapsed": false,
    "jupyter": {
     "outputs_hidden": false
    }
   },
   "outputs": [],
   "source": [
    "with open(params[\"output\"], \"w\") as f:\n",
    "    f.write(f\"t,free_energy,solid_fraction,tip_position\\n\")\n",
    "    f.write(f\"{t},{free_energy},{solid_fraction},{tip_position}\\n\")"
   ]
  },
  {
   "cell_type": "markdown",
   "metadata": {},
   "source": [
    "## Solve in time"
   ]
  },
  {
   "cell_type": "code",
   "execution_count": 33,
   "metadata": {
    "collapsed": false,
    "jupyter": {
     "outputs_hidden": false
    }
   },
   "outputs": [],
   "source": [
    "while t < params[\"t_max\"]:\n",
    "    phi.updateOld()\n",
    "    u.updateOld()\n",
    "    for sweep in range(3):\n",
    "        res = eq.sweep(dt=params[\"dt\"])\n",
    "    t += params[\"dt\"]\n",
    "    if params[\"view\"]:\n",
    "        phiviewer.plot()\n",
    "    with open(params[\"output\"], \"a\") as f:\n",
    "        f.write(f\"{t},{free_energy},{solid_fraction},{tip_position}\\n\")"
   ]
  },
  {
   "cell_type": "code",
   "execution_count": null,
   "metadata": {},
   "outputs": [],
   "source": []
  }
 ],
 "metadata": {
  "kernelspec": {
   "display_name": "Python 3 (ipykernel)",
   "language": "python",
   "name": "python3"
  },
  "language_info": {
   "codemirror_mode": {
    "name": "ipython",
    "version": 3
   },
   "file_extension": ".py",
   "mimetype": "text/x-python",
   "name": "python",
   "nbconvert_exporter": "python",
   "pygments_lexer": "ipython3",
   "version": "3.11.4"
  }
 },
 "nbformat": 4,
 "nbformat_minor": 4
}
