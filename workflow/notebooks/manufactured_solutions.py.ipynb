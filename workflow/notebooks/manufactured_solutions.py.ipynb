{
 "cells": [
  {
   "cell_type": "markdown",
   "metadata": {},
   "source": [
    "Manufactured Solution experiment based on SAND2000 - 1444"
   ]
  },
  {
   "cell_type": "markdown",
   "metadata": {},
   "source": [
    "Test based on [CHiMaD Phase Field Benchmark Problem 7](https://pages.nist.gov/pfhub/benchmarks/benchmark7.ipynb)"
   ]
  },
  {
   "cell_type": "markdown",
   "metadata": {},
   "source": [
    "## Import Python modules"
   ]
  },
  {
   "cell_type": "code",
   "execution_count": null,
   "metadata": {
    "ExecuteTime": {
     "end_time": "2019-10-13T11:27:53.359783Z",
     "start_time": "2019-10-13T11:27:51.129990Z"
    },
    "tags": []
   },
   "outputs": [],
   "source": [
    "import argparse\n",
    "import json\n",
    "import os\n",
    "import re\n",
    "import sys\n",
    "import time\n",
    "import json\n",
    "import fipy as fp\n",
    "try:\n",
    "    import pathlib\n",
    "except ImportError:\n",
    "    import pathlib2 as pathlib"
   ]
  },
  {
   "cell_type": "code",
   "execution_count": null,
   "metadata": {},
   "outputs": [],
   "source": [
    "from sympy import Symbol, symbols, simplify, init_printing, Rational\n",
    "from sympy import Eq, sin, cos, tanh, sqrt, pi\n",
    "from sympy.printing import pprint\n",
    "from sympy.abc import kappa, S, t, x, xi, y, alpha\n",
    "\n",
    "from sympy.physics.vector import ReferenceFrame, dynamicsymbols, time_derivative, divergence, gradient"
   ]
  },
  {
   "cell_type": "markdown",
   "metadata": {},
   "source": [
    "## Initialize\n",
    "### Load parameters"
   ]
  },
  {
   "cell_type": "code",
   "execution_count": null,
   "metadata": {
    "tags": []
   },
   "outputs": [],
   "source": [
    "parser = argparse.ArgumentParser()\n",
    "parser.add_argument(\"--solver\", help=\"solver class to use\", default=\"pcg\")\n",
    "parser.add_argument(\"--preconditioner\", help=\"preconditioner class to use\", default=\"none\")\n",
    "parser.add_argument(\"--sweeps\", help=\"number of nonlinear sweeps to take\",\n",
    "                    type=int, default=5)\n",
    "\n",
    "parser.add_argument(\"--kappa\", help=\"gradient energy coefficient\",\n",
    "                    type=float, default=0.0004)\n",
    "parser.add_argument(\"--A1\", help=\"A1 parameter\",\n",
    "                    type=float, default=0.0075)\n",
    "parser.add_argument(\"--B1\", help=\"B1 parameter\",\n",
    "                    type=float, default=8 * pi)\n",
    "parser.add_argument(\"--A2\", help=\"A2 parameter\",\n",
    "                    type=float, default=0.03)\n",
    "parser.add_argument(\"--B2\", help=\"B2 parameter\",\n",
    "                    type=float, default=22 * pi)\n",
    "parser.add_argument(\"--C2\", help=\"C2 parameter\",\n",
    "                    type=float, default=0.0625 * pi)\n",
    "\n",
    "parser.add_argument(\"--totaltime\", help=\"duration of full simulation\",\n",
    "                    type=float, default=8.)\n",
    "parser.add_argument(\"--dt\", help=\"simulation time step\",\n",
    "                    type=float, default=0.1)\n",
    "parser.add_argument(\"--Lx\", help=\"simulation size in x dimension\",\n",
    "                    type=float, default=1.0)\n",
    "parser.add_argument(\"--Ly\", help=\"simulation size in y dimension\",\n",
    "                    type=float, default=0.5)\n",
    "parser.add_argument(\"--nx\", help=\"number of grid cells in x dimension\",\n",
    "                    type=float, default=1024)\n",
    "\n",
    "parser.add_argument(\"--iterations\", help=\"maximum number of linear iterations to take for each sweep\",\n",
    "                    type=int, default=1000)\n",
    "parser.add_argument(\"--tolerance\", help=\"linear solver tolerance\",\n",
    "                    default=1e-10)\n",
    "parser.add_argument(\"--profile\",\n",
    "                    help=\"store profiling statistics along with other output\",\n",
    "                    action='store_true')\n",
    "parser.add_argument(\"--view\",\n",
    "                    help=\"whether to view the results\",\n",
    "                    action='store_true')"
   ]
  },
  {
   "cell_type": "code",
   "execution_count": null,
   "metadata": {
    "tags": []
   },
   "outputs": [],
   "source": [
    "args, unknowns = parser.parse_known_args(args=None)"
   ]
  },
  {
   "cell_type": "markdown",
   "metadata": {},
   "source": [
    "## symbolic form"
   ]
  },
  {
   "cell_type": "code",
   "execution_count": null,
   "metadata": {},
   "outputs": [],
   "source": [
    "N = ReferenceFrame('N')\n",
    "t = symbols('t')\n",
    "\n",
    "init_printing(use_unicode=True)\n",
    "\n",
    "# alpha = symbols('a')\n",
    "A1, A2 = symbols('A1 A2')\n",
    "B1, B2 = symbols('B1 B2')\n",
    "C2 = symbols('C2')\n",
    "\n",
    "# Define interface offset (alpha)\n",
    "alpha = Rational(1, 4) + A1 * t * sin(B1 * N[0]) + A2 * sin(B2 * N[0] + C2 * t)\n",
    "\n",
    "# Define the solution equation (eta)\n",
    "xi = (N[1] - alpha) / sqrt(2*kappa)\n",
    "eta_sol = (1 - tanh(xi)) / 2"
   ]
  },
  {
   "cell_type": "code",
   "execution_count": null,
   "metadata": {
    "scrolled": true
   },
   "outputs": [],
   "source": [
    "eq_sym = (time_derivative(eta_sol, N)\n",
    "                  + 4 * eta_sol * (eta_sol - 1) * (eta_sol - Rational(1, 2)) \n",
    "                  - divergence(kappa * gradient(eta_sol, N), N))"
   ]
  },
  {
   "cell_type": "code",
   "execution_count": null,
   "metadata": {},
   "outputs": [],
   "source": [
    "eq_sym"
   ]
  },
  {
   "cell_type": "markdown",
   "metadata": {},
   "source": [
    "### substitute coefficient values"
   ]
  },
  {
   "cell_type": "code",
   "execution_count": null,
   "metadata": {},
   "outputs": [],
   "source": [
    "parameters = ((kappa, args.kappa), \n",
    "              (A1, args.A1), (B1, args.B1), \n",
    "              (A2, args.A2), (B2, args.B2), \n",
    "              (C2, args.C2))"
   ]
  },
  {
   "cell_type": "code",
   "execution_count": null,
   "metadata": {},
   "outputs": [],
   "source": [
    "subs = [sub.subs(parameters) for sub in (eq_sym, eta_sol)]"
   ]
  },
  {
   "cell_type": "markdown",
   "metadata": {},
   "source": [
    "### generate FiPy lambda functions"
   ]
  },
  {
   "cell_type": "code",
   "execution_count": null,
   "metadata": {},
   "outputs": [],
   "source": [
    "from sympy.utilities.lambdify import lambdify, lambdastr"
   ]
  },
  {
   "cell_type": "code",
   "execution_count": null,
   "metadata": {},
   "outputs": [],
   "source": [
    "(eq_fp, eta_fp) = [lambdify((N[0], N[1], t), sub, modules=fp.numerix) for sub in subs]"
   ]
  },
  {
   "cell_type": "code",
   "execution_count": null,
   "metadata": {},
   "outputs": [],
   "source": [
    "kappa_fp = float(kappa.subs(parameters))"
   ]
  },
  {
   "cell_type": "markdown",
   "metadata": {},
   "source": [
    "## Create solver"
   ]
  },
  {
   "cell_type": "code",
   "execution_count": null,
   "metadata": {},
   "outputs": [],
   "source": [
    "precon = None\n",
    "\n",
    "if args.preconditioner == \"jacobi\":\n",
    "    precon = fp.JacobiPreconditioner()\n",
    "elif args.preconditioner == \"ilu\":\n",
    "    precon = fp.ILUPreconditioner()\n",
    "elif args.preconditioner == \"ssor\":\n",
    "    precon = fp.SSORPreconditioner()\n",
    "elif args.preconditioner == \"icc\":\n",
    "    precon = fp.ICPreconditioner()\n",
    "elif args.preconditioner == \"none\":\n",
    "    precon = None\n",
    "else:\n",
    "    precon = fp.solvers.__dict__[args.preconditioner]()\n",
    "\n",
    "if args.solver == \"cgs\":\n",
    "    solver_class = fp.LinearCGSSolver\n",
    "elif args.solver == \"gmres\":\n",
    "    solver_class = fp.LinearGMRESSolver\n",
    "elif args.solver == \"lu\":\n",
    "    solver_class = fp.LinearLUSolver\n",
    "elif args.solver == \"pcg\":\n",
    "    solver_class = fp.LinearPCGSolver\n",
    "else:\n",
    "    solver_class = fp.solvers.__dict__[args.solver]"
   ]
  },
  {
   "cell_type": "code",
   "execution_count": null,
   "metadata": {},
   "outputs": [],
   "source": [
    "if solver_class == fp.LinearLUSolver:\n",
    "    precon = None # preconditioned lu doesn't make any sense"
   ]
  },
  {
   "cell_type": "code",
   "execution_count": null,
   "metadata": {},
   "outputs": [],
   "source": [
    "solver = solver_class(tolerance=args.tolerance, criterion=\"RHS\",\n",
    "                      iterations=args.iterations, precon=precon)"
   ]
  },
  {
   "cell_type": "markdown",
   "metadata": {},
   "source": [
    "## setup FiPy simulation"
   ]
  },
  {
   "cell_type": "code",
   "execution_count": null,
   "metadata": {},
   "outputs": [],
   "source": [
    "nx = args.nx\n",
    "ny = int(nx * args.Ly / args.Lx)\n",
    "dx = args.Lx / nx\n",
    "dy = args.Ly / ny\n",
    "dt = args.dt\n",
    "\n",
    "mesh = fp.PeriodicGrid2DLeftRight(nx=nx, dx=dx, ny=ny, dy=dy)\n",
    "xx, yy = mesh.cellCenters[0], mesh.cellCenters[1]\n",
    "XX, YY = mesh.faceCenters[0], mesh.faceCenters[1]\n",
    "\n",
    "elapsed = fp.Variable(name=\"$t$\", value=0.)\n",
    "\n",
    "eta = fp.CellVariable(mesh=mesh, name=r\"$\\eta$\", hasOld=True)\n",
    "eta.constrain(1., where=YY==0.)\n",
    "eta.constrain(0., where=YY==0.5)\n",
    "\n",
    "eta.value = eta_fp(xx, yy, 0.)\n",
    "\n",
    "deta = eta - eta_fp(xx, yy, elapsed)\n",
    "deta.name = r\"$\\Delta\\eta$\"\n",
    "\n",
    "# viewer = fp.Matplotlib2DViewer(vars=deta)\n",
    "\n",
    "eq = (fp.TransientTerm() == \n",
    "      - 4 * eta * (eta - 1) * (eta - 0.5) \n",
    "      + fp.DiffusionTerm(coeff=kappa_fp) + eq_fp(xx, yy, elapsed))"
   ]
  },
  {
   "cell_type": "markdown",
   "metadata": {},
   "source": [
    "### time simulation"
   ]
  },
  {
   "cell_type": "code",
   "execution_count": null,
   "metadata": {},
   "outputs": [],
   "source": [
    "start = time.time()\n",
    "\n",
    "while elapsed.value <= args.totaltime:\n",
    "    eta.updateOld()\n",
    "    eq.solve(var=eta, dt=dt, solver=solver)\n",
    "    elapsed.value = elapsed() + dt\n",
    "    # viewer.plot()\n",
    "\n",
    "end = time.time()"
   ]
  },
  {
   "cell_type": "code",
   "execution_count": null,
   "metadata": {},
   "outputs": [],
   "source": [
    "deta = eta - eta_fp(xx, yy, elapsed - dt)\n",
    "\n",
    "etaerror2 = (fp.numerix.L2norm(deta * mesh.cellVolumes)\n",
    "             / fp.numerix.L2norm(mesh.cellVolumes))\n",
    "etaerrorINF = fp.numerix.LINFnorm(deta)\n",
    "\n",
    "results = {\n",
    "    \"elapsed / s\": end - start,\n",
    "    \"etaerror2\": etaerror2,\n",
    "    \"etaerrorINF\": etaerrorINF,\n",
    "    \"solver\": repr(solver)\n",
    "}\n",
    "\n",
    "if fp.parallel.procID == 0:\n",
    "    print(json.dumps(results))"
   ]
  },
  {
   "cell_type": "code",
   "execution_count": null,
   "metadata": {},
   "outputs": [],
   "source": []
  }
 ],
 "metadata": {
  "kernelspec": {
   "display_name": "Python 3 (ipykernel)",
   "language": "python",
   "name": "python3"
  },
  "language_info": {
   "codemirror_mode": {
    "name": "ipython",
    "version": 3
   },
   "file_extension": ".py",
   "mimetype": "text/x-python",
   "name": "python",
   "nbconvert_exporter": "python",
   "pygments_lexer": "ipython3",
   "version": "3.11.4"
  }
 },
 "nbformat": 4,
 "nbformat_minor": 4
}
