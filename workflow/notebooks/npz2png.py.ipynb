{
 "cells": [
  {
   "cell_type": "markdown",
   "metadata": {},
   "source": [
    "# npz2png\n",
    "\n",
    "Convert output of benchmark3a.py.ipnb to PNG image\n"
   ]
  },
  {
   "cell_type": "markdown",
   "metadata": {},
   "source": [
    "## Import Python modules"
   ]
  },
  {
   "cell_type": "code",
   "execution_count": null,
   "metadata": {
    "collapsed": false,
    "jupyter": {
     "outputs_hidden": false
    }
   },
   "outputs": [],
   "source": [
    "import json\n",
    "import re\n",
    "import sys\n",
    "\n",
    "try:\n",
    "    import pathlib\n",
    "except ImportError:\n",
    "    import pathlib2 as pathlib\n",
    "\n",
    "import matplotlib\n",
    "matplotlib.use('Agg')\n",
    "\n",
    "import fipy as fp\n",
    "from fipy.tools import numerix as nmx"
   ]
  },
  {
   "cell_type": "code",
   "execution_count": null,
   "metadata": {},
   "outputs": [],
   "source": [
    "isnotebook = False\n",
    "try:\n",
    "    from IPython import get_ipython\n",
    "    isnotebook = (get_ipython().__class__.__name__ == \"ZMQInteractiveShell\")\n",
    "except:\n",
    "    pass"
   ]
  },
  {
   "cell_type": "markdown",
   "metadata": {},
   "source": [
    "## Define problem"
   ]
  },
  {
   "cell_type": "code",
   "execution_count": null,
   "metadata": {},
   "outputs": [],
   "source": [
    "param_file = pathlib.Path(sys.argv[1])\n",
    "npz_file = pathlib.Path(sys.argv[2])\n",
    "png_file = pathlib.Path(sys.argv[3])"
   ]
  },
  {
   "cell_type": "markdown",
   "metadata": {},
   "source": [
    "### Define simulation parameters"
   ]
  },
  {
   "cell_type": "code",
   "execution_count": null,
   "metadata": {},
   "outputs": [],
   "source": [
    "if isnotebook:\n",
    "    params = {\n",
    "        \"dx\": 0.5,\n",
    "        \"Lx\": 96.,\n",
    "        \"r0\": 8.,\n",
    "        \"dt\": 0.15,\n",
    "        \"t_max\": 100,\n",
    "        \"checkpoints\": nmx.linspace(0, 100, 11),\n",
    "        \"view\": True,\n",
    "        \"solver\": None,\n",
    "        \"preconditioner\": None\n",
    "    }\n",
    "else:\n",
    "    with open(param_file, \"r\") as f:\n",
    "        params = json.load(f)"
   ]
  },
  {
   "cell_type": "markdown",
   "metadata": {},
   "source": [
    "### Define domain"
   ]
  },
  {
   "cell_type": "code",
   "execution_count": null,
   "metadata": {},
   "outputs": [],
   "source": [
    "mesh = fp.Grid2D(dx=params[\"dx\"], Lx=params[\"Lx\"],\n",
    "                 dy=params[\"dx\"], Ly=params[\"Lx\"])"
   ]
  },
  {
   "cell_type": "markdown",
   "metadata": {},
   "source": [
    "### Define solution variables"
   ]
  },
  {
   "cell_type": "code",
   "execution_count": null,
   "metadata": {},
   "outputs": [],
   "source": [
    "u = fp.CellVariable(mesh=mesh, name=\"u\", hasOld=True)"
   ]
  },
  {
   "cell_type": "code",
   "execution_count": null,
   "metadata": {},
   "outputs": [],
   "source": [
    "phi = fp.CellVariable(mesh=mesh, name=r\"$\\varphi$\", hasOld=True)"
   ]
  },
  {
   "cell_type": "markdown",
   "metadata": {},
   "source": [
    "## Load data"
   ]
  },
  {
   "cell_type": "code",
   "execution_count": null,
   "metadata": {},
   "outputs": [],
   "source": [
    "data = nmx.load(npz_file)\n",
    "u.value = data[\"u\"]\n",
    "phi.value = data[\"phi\"]"
   ]
  },
  {
   "cell_type": "markdown",
   "metadata": {},
   "source": [
    "### Initialize viewers"
   ]
  },
  {
   "cell_type": "code",
   "execution_count": null,
   "metadata": {
    "collapsed": false,
    "jupyter": {
     "outputs_hidden": false
    }
   },
   "outputs": [],
   "source": [
    "phiviewer = fp.Viewer(vars=phi, datamin=-1, datamax=1)"
   ]
  },
  {
   "cell_type": "code",
   "execution_count": null,
   "metadata": {},
   "outputs": [],
   "source": [
    "phiviewer.save(png_file)"
   ]
  }
 ],
 "metadata": {
  "kernelspec": {
   "display_name": "Python 3 (ipykernel)",
   "language": "python",
   "name": "python3"
  },
  "language_info": {
   "codemirror_mode": {
    "name": "ipython",
    "version": 3
   },
   "file_extension": ".py",
   "mimetype": "text/x-python",
   "name": "python",
   "nbconvert_exporter": "python",
   "pygments_lexer": "ipython3",
   "version": "3.11.4"
  }
 },
 "nbformat": 4,
 "nbformat_minor": 4
}
